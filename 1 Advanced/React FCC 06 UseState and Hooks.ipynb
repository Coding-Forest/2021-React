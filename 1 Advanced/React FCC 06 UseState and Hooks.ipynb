{
  "nbformat": 4,
  "nbformat_minor": 0,
  "metadata": {
    "colab": {
      "name": "React FCC 06 UseState and Hooks.ipynb",
      "provenance": [],
      "collapsed_sections": [],
      "toc_visible": true
    },
    "kernelspec": {
      "name": "python3",
      "display_name": "Python 3"
    },
    "language_info": {
      "name": "python"
    }
  },
  "cells": [
    {
      "cell_type": "markdown",
      "metadata": {
        "id": "3rqsGAHiVx-n"
      },
      "source": [
        "# React FFC 06 Advanced - useState and Hooks\n",
        "\n",
        "\n",
        "**References**  \n",
        "- freeCodeCamp.org (2020) Full React Course 2020 - Learn Fundamentals, Hooks, Context API, React https://www.youtube.com/watch?v=4UZrsTqkcW4&ab_channel=freeCodeCamp.org\n",
        "- Tutorial by Mr. John Smilga  \n",
        "  https://github.com/john-smilga/react-basics-2020"
      ]
    },
    {
      "cell_type": "markdown",
      "metadata": {
        "id": "tSBCdUsSlR8W"
      },
      "source": [
        "## Install dependencies\n",
        "`npm install`\n",
        "- `npm install (in a package directory, no arguments):`   \n",
        "  Install the dependencies in the local node_modules folder.  \n",
        "  By default, npm install will install all modules listed as dependencies in package.json."
      ]
    },
    {
      "cell_type": "code",
      "metadata": {
        "id": "Pe1evGVdR0FM"
      },
      "source": [
        "# package.json\n",
        "\n",
        "{\n",
        "  \"name\": \"tutorial\",\n",
        "  \"version\": \"0.1.0\",\n",
        "  \"private\": true,\n",
        "  \"dependencies\": {   # these modules will be installed upon the command.\n",
        "    \"@testing-library/jest-dom\": \"^4.2.4\",\n",
        "    \"@testing-library/react\": \"^9.5.0\",\n",
        "    \"@testing-library/user-event\": \"^7.2.1\",\n",
        "    \"react\": \"^16.13.1\",\n",
        "    \"react-dom\": \"^16.13.1\",\n",
        "    \"react-router-dom\": \"^5.2.0\",\n",
        "    \"react-scripts\": \"3.4.3\"\n",
        "  },\n",
        " \n",
        " ..."
      ],
      "execution_count": null,
      "outputs": []
    },
    {
      "cell_type": "markdown",
      "metadata": {
        "id": "pbnp9GmflcS7"
      },
      "source": [
        "## Project Overview"
      ]
    },
    {
      "cell_type": "markdown",
      "metadata": {
        "id": "bnMtkBvkn-rD"
      },
      "source": [
        "Everything is done in `App.js` which is:\n",
        "- imported into `index.js` and \n",
        "- injected inside `<React.StrictMode>`."
      ]
    },
    {
      "cell_type": "code",
      "metadata": {
        "id": "DjY-iyYMlepA"
      },
      "source": [
        "# index.js\n",
        "ReactDOM.render(\n",
        "  <React.StrictMode>\n",
        "    <App />     # App.js component is injected in index.js\n",
        "  </React.StrictMode>,\n",
        "  document.getElementById('root')\n",
        ");"
      ],
      "execution_count": null,
      "outputs": []
    },
    {
      "cell_type": "markdown",
      "metadata": {
        "id": "uSH7D__koOiq"
      },
      "source": [
        "## 2- `UseState`\n",
        "\n",
        "The useState function is a built in hook that can be imported from the react package. It allows you to add state to your functional components. Using the useState hook inside a function component, you can create a piece of state without switching to class components ([StackOverFlow](https://stackoverflow.com/questions/53165945/what-is-usestate-in-react)). "
      ]
    },
    {
      "cell_type": "code",
      "metadata": {
        "colab": {
          "base_uri": "https://localhost:8080/",
          "height": 194
        },
        "id": "UZU7kbEQoNy5",
        "outputId": "609cd24d-6f49-4de6-9512-f3de8d57adb6"
      },
      "source": [
        "import React, { useState } from 'react';\n",
        "// useState - function\n",
        "\n",
        "const UseStateBasics = () => {\n",
        "  console.log(useState);\n",
        "  return <h2>useState basic example</h2>;\n",
        "};\n",
        "\n",
        "export default UseStateBasics;"
      ],
      "execution_count": 3,
      "outputs": [
        {
          "output_type": "display_data",
          "data": {
            "image/png": "[encoded data removed]",
            "text/plain": [
              "<PIL.Image.Image image mode=RGB size=539x177 at 0x7F4D15E770D0>"
            ]
          },
          "metadata": {}
        }
      ]
    },
    {
      "cell_type": "markdown",
      "metadata": {
        "id": "M3Yuc5iH0tls"
      },
      "source": [
        "`<Fragment>`\n",
        "A common pattern in React is for a component to return multiple elements. Fragments let you group a list of children without adding extra nodes to the DOM."
      ]
    },
    {
      "cell_type": "markdown",
      "metadata": {
        "id": "zlON2cIo2DcG"
      },
      "source": [
        "### `const [value, setValue] = useState(value)`"
      ]
    },
    {
      "cell_type": "code",
      "metadata": {
        "id": "RbT7uPUU2ZfZ"
      },
      "source": [
        "    const [text, setText] = useState(\"Hello World\");\n",
        "\n",
        "    const changeText = () => {\n",
        "      setText(42)\n",
        "    };\n",
        "\n",
        "    return (\n",
        "      <React.Fragment>\n",
        "        <h1>{text}</h1>\n",
        "        <button className='btn' onClick={changeText}>\n",
        "          Click here\n",
        "        </button>  \n",
        "      </React.Fragment>\n",
        "    )\n",
        "  };"
      ],
      "execution_count": null,
      "outputs": []
    },
    {
      "cell_type": "markdown",
      "metadata": {
        "id": "eL97ed7_4UqT"
      },
      "source": [
        "### Toggle `State` with `if` statement"
      ]
    },
    {
      "cell_type": "code",
      "metadata": {
        "id": "18zb1tqg4ZcU"
      },
      "source": [
        "    const [text, setText] = useState(\"Good morning!\");\n",
        "\n",
        "    const changeText = () => {\n",
        "      if (text === 'Good morning!'){\n",
        "        setText(\"Good night.\");\n",
        "      }\n",
        "      else {\n",
        "        setText('Good morning!');\n",
        "      }\n",
        "    };\n"
      ],
      "execution_count": null,
      "outputs": []
    },
    {
      "cell_type": "markdown",
      "metadata": {
        "id": "-A2Ud1BZ5Ex6"
      },
      "source": [
        "## 3 - Hooks"
      ]
    },
    {
      "cell_type": "markdown",
      "metadata": {
        "id": "LldxnxTc5H6i"
      },
      "source": [
        "### Always Uppercase\n",
        "- `use`\n",
        "- Component names must be Capitalised. \n",
        "- must be in the function/component body\n",
        "- Cannot call conditionally."
      ]
    },
    {
      "cell_type": "markdown",
      "metadata": {
        "id": "Ch-Rde3w64hg"
      },
      "source": [
        "### Component in Uppercase\n",
        "The `Component` containing the `State` function must be in uppercase."
      ]
    },
    {
      "cell_type": "code",
      "metadata": {
        "id": "pp6mJK-i67d0"
      },
      "source": [
        "  const UseStateBasics = () => {  # << Component in Uppercase\n",
        "    const [text, setText] = useState(\"Good morning!\");\n",
        "\n",
        "    const changeText = () => {\n",
        "      if (text === 'Good morning!'){\n",
        "        setText(\"Good night.\");\n",
        "      }\n",
        "      else {\n",
        "        setText('Good morning!');\n",
        "      }\n",
        "    };"
      ],
      "execution_count": null,
      "outputs": []
    },
    {
      "cell_type": "markdown",
      "metadata": {
        "id": "CX_kKcvwAj4f"
      },
      "source": [
        "## 4 - `UseStateArray`"
      ]
    },
    {
      "cell_type": "markdown",
      "metadata": {
        "id": "fCLIgB1JFdlW"
      },
      "source": [
        "### `object.map()`\n",
        "applies (maps) the function to every item in an array. "
      ]
    },
    {
      "cell_type": "code",
      "metadata": {
        "id": "6sv0Jy8SA4Nx"
      },
      "source": [
        "# data.js\n",
        "export const data = [\n",
        "  { id: 1, name: 'alyssa' },\n",
        "  { id: 2, name: 'nicholas' },\n",
        "  { id: 3, name: 'piotr' },\n",
        "  { id: 4, name: 'maria' },\n",
        "  { id: 5, name: 'laurent' },\n",
        "  { id: 6, name: 'florence' },\n",
        "  { id: 7, name: 'mario' },\n",
        "  { id: 8, name: 'fiorella' },\n",
        "];"
      ],
      "execution_count": null,
      "outputs": []
    },
    {
      "cell_type": "code",
      "metadata": {
        "colab": {
          "base_uri": "https://localhost:8080/",
          "height": 355
        },
        "id": "EWtXQeXhA97i",
        "outputId": "bca67ad0-4cc4-4a55-fa31-7066512f0a66"
      },
      "source": [
        "import React, { Fragment } from 'react';\n",
        "import { data } from '../../../data';\n",
        "\n",
        "const UseStateArray = () => {\n",
        "  const [people, setPeople] = React.useState(data)\n",
        "  return (\n",
        "    <Fragment>\n",
        "      {people.map((person) => {\n",
        "        const {id, name} = person\n",
        "        return <div key={id} className=\"item\">\n",
        "          <h4>{name}</h4>\n",
        "        </div>;\n",
        "      })}\n",
        "    </Fragment>\n",
        "  );\n",
        "};"
      ],
      "execution_count": 4,
      "outputs": [
        {
          "output_type": "display_data",
          "data": {
            "image/png": "[encoded data removed]",
            "text/plain": [
              "<PIL.Image.Image image mode=RGB size=539x338 at 0x7F4D15DFD490>"
            ]
          },
          "metadata": {}
        }
      ]
    },
    {
      "cell_type": "markdown",
      "metadata": {
        "id": "QYlparYhFde5"
      },
      "source": [
        "### `removeItem` from array\n",
        "- `variable.filter()`"
      ]
    },
    {
      "cell_type": "code",
      "metadata": {
        "colab": {
          "base_uri": "https://localhost:8080/",
          "height": 364
        },
        "id": "KJGGCdQzFsoW",
        "outputId": "8db56919-5c66-4261-e6a9-047f6c18192b"
      },
      "source": [
        "const UseStateArray = () => {\n",
        "  const [people, setPeople] = React.useState(data)\n",
        "  const removeItem = (id) => {\n",
        "    let newPeople = people.filter((person) => person.id !== id)\n",
        "    setPeople(newPeople)\n",
        "  };\n",
        "\n",
        "  return (\n",
        "    <Fragment>\n",
        "      {people.map((person) => {\n",
        "        const {id, name} = person\n",
        "        return <div key={id} className=\"item\">\n",
        "          <h4>{name}</h4>\n",
        "          <button onClick={() => removeItem(id)}>remove</button>\n",
        "        </div>;\n",
        "      })}\n",
        "      <button className='btn' onClick={() => setPeople([])}>\n",
        "        clear items\n",
        "      </button>\n",
        "    </Fragment>\n",
        "  );\n",
        "};"
      ],
      "execution_count": 5,
      "outputs": [
        {
          "output_type": "display_data",
          "data": {
            "image/png": "[encoded data removed]",
            "text/plain": [
              "<PIL.Image.Image image mode=RGB size=490x347 at 0x7F4D15E0A490>"
            ]
          },
          "metadata": {}
        }
      ]
    },
    {
      "cell_type": "markdown",
      "metadata": {
        "id": "0DTfcwvGIfjN"
      },
      "source": [
        "## 5 - UseState - Object\n",
        "To change the value of a certain attribute of an object, we can use the `... spread` operator. "
      ]
    },
    {
      "cell_type": "code",
      "metadata": {
        "id": "QBvNHbxlIjQB"
      },
      "source": [
        "import React, { Fragment, useState } from 'react';\n",
        "\n",
        "const UseStateObject = () => {\n",
        "  const [person, setPerson] = useState({\n",
        "    name:'piotre', \n",
        "    age:'33', \n",
        "    message:'Привет!',\n",
        "  });\n",
        "  console.log(person);\n",
        "\n",
        "  const changeMessage = () => {\n",
        "    setPerson({...person, name:\"Peter\", message:\"Hi there!\"}); # use of spread operator \n",
        "  }\n",
        "\n",
        "  return (\n",
        "    <Fragment>\n",
        "      <h3>{person.name}</h3>\n",
        "      <h3>{person.age}</h3>\n",
        "      <h3>{person.message}</h3>\n",
        "      <button className='btn' onClick={changeMessage}>Translate message</button>\n",
        "    </Fragment>\n",
        "  )\n",
        "};"
      ],
      "execution_count": null,
      "outputs": []
    },
    {
      "cell_type": "markdown",
      "metadata": {
        "id": "_JK_qG17JGjJ"
      },
      "source": [
        "## 6 - UseState - Multiple State Values\n",
        "Set multiple values in an object using setter method. Compare with the above code in section `5 - UseState - Object`. It will render the exactly same result. "
      ]
    },
    {
      "cell_type": "code",
      "metadata": {
        "id": "YLFskkLGLdSF"
      },
      "source": [
        "import React, { Fragment, useState } from 'react';\n",
        "\n",
        "const UseStateMultipleValues = () => {\n",
        "  const [person, setPerson] = useState({\n",
        "    name:'Пётр', \n",
        "    age:'33', \n",
        "    message: null,\n",
        "  });\n",
        "\n",
        "  const [name, setName] = useState(\"Peter\")\n",
        "  const [age, setAge] = useState(34)\n",
        "  const [message, setMessage] = useState(\"Привет!\")\n",
        "\n",
        "\n",
        "  const changeMessage = () => {\n",
        "    // setPerson({...person, name:\"Peter\", message:\"Hi there!\"});\n",
        "    setMessage(\"Hi hi\")\n",
        "  }\n",
        "\n",
        "  return (\n",
        "    <Fragment>\n",
        "      <h3>{name}</h3>\n",
        "      <h3>{age}</h3>\n",
        "      <h3>{message}</h3>\n",
        "      <button className='btn' onClick={changeMessage}>Translate</button>\n",
        "    </Fragment>\n",
        "  )\n",
        "};"
      ],
      "execution_count": null,
      "outputs": []
    }
  ]
}
