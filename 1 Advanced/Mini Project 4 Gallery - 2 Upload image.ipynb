{
  "nbformat": 4,
  "nbformat_minor": 0,
  "metadata": {
    "colab": {
      "name": "Gallery in React, Firebase - 2 Upload image.ipynb",
      "provenance": [],
      "collapsed_sections": []
    },
    "kernelspec": {
      "display_name": "Python 3",
      "name": "python3"
    },
    "language_info": {
      "name": "python"
    }
  },
  "cells": [
    {
      "cell_type": "markdown",
      "metadata": {
        "id": "3rqsGAHiVx-n"
      },
      "source": [
        "# Gallery web app in `ReactJS` & `Firebase`\n",
        "\n",
        "**References**  \n",
        "- Traversy Media, Net Ninja (2020) Build a Photo Gallery With React & Firebase https://www.youtube.com/watch?v=vUe91uOx7R0\n",
        "- Source Code by Net Ninja from https://github.com/iamshaunjp/firegram/tree/starter-files"
      ]
    },
    {
      "cell_type": "markdown",
      "metadata": {
        "id": "bDr64lhmai3E"
      },
      "source": [
        "## 2 Upload images on `web app`\n",
        "\n",
        "Create a file `UploadForm.js`\n",
        "\n",
        "📂 `my-project`  \n",
        "├── 📂node_modules    \n",
        "├── 📂public   \n",
        "├── 📂src   \n",
        "│ㅤㅤ├── 📂comps    \n",
        "│ㅤㅤ│ㅤㅤ├── 📃Title.js       \n",
        "│ㅤㅤ│ㅤㅤ└── 📃`UploadForm.js`       \n",
        "│ㅤㅤ├── 📂firebase    \n",
        "│ㅤㅤ│ㅤㅤ└── 📃config.js       \n",
        "├── 📃package-lock.json  \n",
        "├── 📃package.json      \n",
        "└── 📃README.md    "
      ]
    },
    {
      "cell_type": "markdown",
      "metadata": {
        "id": "ol4hYbt9fyix"
      },
      "source": [
        "### built-in JS functions\n",
        "- `e.target.files[i]`: grabs files in `event target`.\n",
        "- `obj.includes(element)`: checks whether `element` is included in `obj`."
      ]
    },
    {
      "cell_type": "code",
      "metadata": {
        "id": "1Azi0M9pDNPK"
      },
      "source": [
        "import React, { useState } from 'react';\n",
        "\n",
        "const UploadForm = () => {\n",
        "    const [file, setFile] = useState(null);\n",
        "    const [error, setError] = useState(null);\n",
        "\n",
        "    const types = ['image/png', 'image/jpeg'];\n",
        "\n",
        "    const changeHandler = (e) => {\n",
        "        let selected = e.target.files[0]                    # JS built-in functio\n",
        "        if (selected && types.includes(selected.type)) {    # JS built-in function\n",
        "            setFile(selected);\n",
        "            setError(\"\");\n",
        "        } else {\n",
        "            setFile(null);\n",
        "            setError('Please select an image file (png or jpeg)');            \n",
        "        }\n",
        "    }\n",
        "\n",
        "    return (\n",
        "        <form>\n",
        "            <input type='file' onChange={changeHandler}/>\n",
        "            <div className='output'>\n",
        "                { error && <div className='error'>{ error }</div> }\n",
        "                { file && <div>{ file.name }</div> }\n",
        "            </div>\n",
        "        </form>\n",
        "    )\n",
        "}\n",
        "\n",
        "export default UploadForm;"
      ],
      "execution_count": null,
      "outputs": []
    }
  ]
}