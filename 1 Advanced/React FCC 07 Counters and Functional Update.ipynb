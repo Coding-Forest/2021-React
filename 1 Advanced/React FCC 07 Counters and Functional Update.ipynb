{
  "nbformat": 4,
  "nbformat_minor": 0,
  "metadata": {
    "colab": {
      "name": "React FCC 07 Simple Counter.ipynb",
      "provenance": [],
      "collapsed_sections": []
    },
    "kernelspec": {
      "display_name": "Python 3",
      "name": "python3"
    },
    "language_info": {
      "name": "python"
    }
  },
  "cells": [
    {
      "cell_type": "markdown",
      "metadata": {
        "id": "3rqsGAHiVx-n"
      },
      "source": [
        "# React FCC 07 Counters and value update\n",
        "- `useState` to change state of a variable!\n",
        "\n",
        "**References**  \n",
        "- freeCodeCamp.org (2020) Full React Course 2020 - Learn Fundamentals, Hooks, Context API, React https://www.youtube.com/watch?v=4UZrsTqkcW4&ab_channel=freeCodeCamp.org\n",
        "- Tutorial by Mr. John Smilga"
      ]
    },
    {
      "cell_type": "markdown",
      "metadata": {
        "id": "eb-4joh-5oeX"
      },
      "source": [
        "## Simple counter\n",
        "- `useState`: increase or decrease value\n",
        "- `reset()`"
      ]
    },
    {
      "cell_type": "code",
      "metadata": {
        "id": "_yAOM1BGmuvB",
        "colab": {
          "base_uri": "https://localhost:8080/",
          "height": 248
        },
        "outputId": "f5210f9e-0739-41ce-cc86-9ead727ac292"
      },
      "source": [
        "import React, { Fragment, useState } from 'react';\n",
        "\n",
        "const UseStateCounter = () => {\n",
        "  const [value, setValue] = useState(0);\n",
        "  const reset = () => {\n",
        "    setValue(0);\n",
        "  }\n",
        "  return (\n",
        "    <Fragment>\n",
        "      <section style={{ margin: '4rem 0'}}>\n",
        "        <h2>Regular counter</h2>\n",
        "        <h1>{value}</h1>\n",
        "        <button className='btn' onClick={() => setValue(value-1)}> decrease</button>\n",
        "        <button className='btn' onClick={reset}> reset</button>\n",
        "        <button className='btn' onClick={() => setValue(value+1)}> increase</button>\n",
        "      </section>\n",
        "    </Fragment>\n",
        "  )\n",
        "};"
      ],
      "execution_count": 2,
      "outputs": [
        {
          "output_type": "display_data",
          "data": {
            "text/html": [
              "\n",
              "  <style>\n",
              "    pre {\n",
              "        white-space: pre-wrap;\n",
              "    }\n",
              "  </style>\n",
              "  "
            ],
            "text/plain": [
              "<IPython.core.display.HTML object>"
            ]
          },
          "metadata": {}
        },
        {
          "output_type": "display_data",
          "data": {
            "image/png": "[encoded data removed]",
            "text/plain": [
              "<PIL.Image.Image image mode=RGB size=403x231 at 0x7FBE229CD150>"
            ]
          },
          "metadata": {}
        }
      ]
    },
    {
      "cell_type": "markdown",
      "metadata": {
        "id": "-UpqTg6I9BKf"
      },
      "source": [
        "## Complex counter\n",
        "Compare the two approaches below. The simple update simply increments the value on each click. However, the problem is that the number of click won't be reflected no matter how many times the button is clicked within the 2,000 ms window. \n",
        "\n",
        "For example, the value is 1 and you click 3 times in 1 second. In our mind, the value should increase to 4, but it will be only 2. Why is that? It is because the value would be updated only 2 seconds later, so for all 3 clicks, the value to update was 1."
      ]
    },
    {
      "cell_type": "code",
      "metadata": {
        "id": "XmR9Ref_9u1I"
      },
      "source": [
        "# Simple update\n",
        "    const complexIncrease = () => {\n",
        "        setTimeout(()=>{\n",
        "           setValue(value + 1)\n",
        "           })\n",
        "        }, 2000)\n",
        "    };"
      ],
      "execution_count": null,
      "outputs": []
    },
    {
      "cell_type": "markdown",
      "metadata": {
        "id": "wlRZhoPr-hnf"
      },
      "source": [
        "**Functional update**\n",
        "\n",
        "Conversely, this functional update grabs the valule of the `previous State`. We can understand it as a sort of callback function. Each next click will be handled after its previoius click has been handled. Therefore, if you click the button three times in 1 second, the value will increase by 3 this time. "
      ]
    },
    {
      "cell_type": "code",
      "metadata": {
        "id": "Ud90Twvh9IUt"
      },
      "source": [
        "# Functional update\n",
        "    const complexIncrease = () => {\n",
        "        setTimeout(()=>{\n",
        "           setValue((prevState)=>{\n",
        "               return prevState + 1;\n",
        "           })\n",
        "        }, 2000)\n",
        "    };"
      ],
      "execution_count": null,
      "outputs": []
    },
    {
      "cell_type": "markdown",
      "metadata": {
        "id": "jVWPY8M35vAW"
      },
      "source": [
        "## Functional Update Form\n",
        "This is another example of functional update. Compare the two snippets below.\n"
      ]
    },
    {
      "cell_type": "code",
      "metadata": {
        "id": "mXTHboKHAFOg"
      },
      "source": [
        "# simple update\n",
        "  const removeItem = (id) => {\n",
        "    let newPeople = people.filter((person) => person.id !== id) # value-updating variable\n",
        "    setPeople(newPeople)                                        # pass in the updated value\n",
        "  };"
      ],
      "execution_count": null,
      "outputs": []
    },
    {
      "cell_type": "code",
      "metadata": {
        "id": "S1bmylb56tVi"
      },
      "source": [
        "# functional update \n",
        "  const removeItem = (id) => {\n",
        "  \n",
        "    setPeople((people)=>{     # update the variable within the setter.\n",
        "      let remainigPeople = people.filter((person) => person.id !== id);\n",
        "      return remainingPeople  # this return value is the State value.\n",
        "    });\n",
        "  };"
      ],
      "execution_count": null,
      "outputs": []
    }
  ]
}
