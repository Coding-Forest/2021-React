{
  "nbformat": 4,
  "nbformat_minor": 0,
  "metadata": {
    "colab": {
      "name": "React.ipynb",
      "provenance": [],
      "collapsed_sections": [],
      "toc_visible": true
    },
    "kernelspec": {
      "name": "python3",
      "display_name": "Python 3"
    },
    "language_info": {
      "name": "python"
    }
  },
  "cells": [
    {
      "cell_type": "markdown",
      "metadata": {
        "id": "jAEp4qwR8csQ"
      },
      "source": [
        "# Node.js\n",
        "Command basics \n",
        "- `npm start`\n",
        "- `npm run build`\n",
        "\n",
        "**References**  \n",
        " codeSTACKr (2020) Build A React App Fast! For Beginners [2020] https://www.youtube.com/watch?v=ycrhfkZUKT0&ab_channel=codeSTACKr"
      ]
    },
    {
      "cell_type": "markdown",
      "metadata": {
        "id": "zRAM1Jmp9LMf"
      },
      "source": [
        "## `npm` & `npx`\n",
        "- `npm`: node package manager\n",
        "- `npx`: node package execute. This command will run react and configure everything for us. We can start right off with nice templates!"
      ]
    },
    {
      "cell_type": "markdown",
      "metadata": {
        "id": "wQKVKPxJ8fiL"
      },
      "source": [
        "1) Download node.js from https://nodejs.org/en/download/.\n",
        "2) Install. \n",
        "3) Open VS code\n",
        "4) on terminal run: `npx create-react-app .` \n",
        "  - . (period) represents the current directory.\n"
      ]
    },
    {
      "cell_type": "code",
      "metadata": {
        "id": "F96j-acc87Z0"
      },
      "source": [
        "C:react-demo> npx create-react-app ."
      ],
      "execution_count": null,
      "outputs": []
    },
    {
      "cell_type": "markdown",
      "metadata": {
        "id": "9bKni6Fv9DFf"
      },
      "source": [
        "    Creating a new React app in C:\\Users\\youre\\Desktop\\react-demo.\n",
        "\n",
        "    Installing packages. This might take a couple of minutes.\n",
        "    Installing react, react-dom, and react-scripts with cra-template..."
      ]
    },
    {
      "cell_type": "markdown",
      "metadata": {
        "id": "Bvh7EQCkAOFG"
      },
      "source": [
        "## App structure\n",
        "📂React-App  \n",
        "├── 📂node_modules  \n",
        "├── 📂public  \n",
        "│ㅤㅤ├── 📃 index.html    \n",
        "│ㅤㅤ└── ...  \n",
        "├── 📂src  \n",
        "├── 📃 .gitignore   \n",
        "├── 📃 package-lock.json   \n",
        "└── 📃 package.json  \n"
      ]
    },
    {
      "cell_type": "markdown",
      "metadata": {
        "id": "VBA36pds9zeF"
      },
      "source": [
        "## 1 - Start dev server"
      ]
    },
    {
      "cell_type": "code",
      "metadata": {
        "id": "VcQbMOYz9E7J"
      },
      "source": [
        "npm start"
      ],
      "execution_count": null,
      "outputs": []
    },
    {
      "cell_type": "code",
      "metadata": {
        "id": "71EkRtKM9c4P"
      },
      "source": [
        "Compiled successfully!\n",
        "\n",
        "You can now view react-demo in the browser.\n",
        "\n",
        "  Local:            http://localhost:3000\n",
        "  On Your Network:  http://192.168.0.8:3000\n",
        "\n",
        "Note that the development build is not optimized.\n",
        "To create a production build, use npm run build."
      ],
      "execution_count": null,
      "outputs": []
    },
    {
      "cell_type": "markdown",
      "metadata": {
        "id": "Iog-FXGhTP4D"
      },
      "source": [
        "## React Components \n",
        "\n",
        "- React components are lowercase.  \n",
        "  - `<div className=\"App\">`  \n",
        "- User defined components are UPPERCASE.\n",
        "  `<React.StrictMode>`  \n",
        "    `<App />`  \n",
        "  `</React.StrictMode>,`  "
      ]
    },
    {
      "cell_type": "markdown",
      "metadata": {
        "id": "rv5QrCeiUmO2"
      },
      "source": [
        "## 2 - Start production server\n",
        "` npm run build`"
      ]
    },
    {
      "cell_type": "code",
      "metadata": {
        "id": "h_D3X1XzUugs"
      },
      "source": [
        "> react-demo@0.1.0 build\n",
        "> react-scripts build   \n",
        "\n",
        "Creating an optimized production build..."
      ],
      "execution_count": null,
      "outputs": []
    },
    {
      "cell_type": "markdown",
      "metadata": {
        "id": "gETFv7jAU2vJ"
      },
      "source": [
        "## Production build App structure\n",
        "\n",
        "📂React-App-in-production  \n",
        "├── 📂build   \n",
        "│ㅤㅤ├── 📂static   \n",
        "│ㅤㅤ│ㅤㅤ├── 📂css  \n",
        "│ㅤㅤ│ㅤㅤ├── 📂js   \n",
        "│ㅤㅤ│ㅤㅤ└── 📂media    \n",
        "│ㅤㅤ├── 📃 all assets necessary        \n",
        "│ㅤㅤ├── 📃 to deploy your app...  \n",
        "│ㅤㅤ└── ...  \n",
        "├── 📂node_modules  \n",
        "├── 📂public  \n",
        "├── 📂src  \n",
        "├── 📃 .gitignore   \n",
        "├── 📃 package-lock.json   \n",
        "└── 📃 package.json  \n"
      ]
    },
    {
      "cell_type": "markdown",
      "metadata": {
        "id": "tqYnaRAdTuRO"
      },
      "source": [
        "## Error Notes"
      ]
    },
    {
      "cell_type": "code",
      "metadata": {
        "id": "CjLWV6WcTvmv"
      },
      "source": [
        "Failed to compile.\n",
        "\n",
        "./src/App.js\n",
        "SyntaxError: C:\\Users\\youre\\Desktop\\react-demo\\src\\App.js: \n",
        "Adjacent JSX elements must be wrapped in an enclosing tag. \n",
        "Did you want a JSX fragment <>...</>? (23:4)"
      ],
      "execution_count": null,
      "outputs": []
    }
  ]
}
