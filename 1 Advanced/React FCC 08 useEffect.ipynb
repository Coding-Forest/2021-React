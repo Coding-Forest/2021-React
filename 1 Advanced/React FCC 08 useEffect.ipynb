{
  "nbformat": 4,
  "nbformat_minor": 0,
  "metadata": {
    "colab": {
      "name": "React FCC 08 useEffect.ipynb",
      "provenance": [],
      "collapsed_sections": []
    },
    "kernelspec": {
      "name": "python3",
      "display_name": "Python 3"
    },
    "language_info": {
      "name": "python"
    }
  },
  "cells": [
    {
      "cell_type": "markdown",
      "metadata": {
        "id": "3rqsGAHiVx-n"
      },
      "source": [
        "# React FFC 08 `useEffect`\n",
        "\n",
        "\n",
        "\n",
        "**References**  \n",
        "- freeCodeCamp.org (2020) Full React Course 2020 - Learn Fundamentals, Hooks, Context API, React https://www.youtube.com/watch?v=4UZrsTqkcW4&ab_channel=freeCodeCamp.org\n",
        "- Tutorial by Mr. John Smilga"
      ]
    },
    {
      "cell_type": "markdown",
      "metadata": {
        "id": "tSBCdUsSlR8W"
      },
      "source": [
        "## 1 - re-render and run \n",
        "`useEffect` by default runs after every re-render.\n",
        "\n",
        "<br>\n",
        "\n",
        "In the example below, see how the `useEffect` is executed in the console. It is never called in the snippet, but by default it runs once when the `UseEffectBasics` component is executed."
      ]
    },
    {
      "cell_type": "code",
      "metadata": {
        "colab": {
          "base_uri": "https://localhost:8080/",
          "height": 351
        },
        "id": "vDfgQWlmZKqi",
        "outputId": "50387860-88a4-4471-d821-c94ea78df2db"
      },
      "source": [
        "import React, { useState, useEffect, Fragment } from 'react';\n",
        "\n",
        "const UseEffectBasics = () => {\n",
        "  const [value, setValue] = useState(0);\n",
        "\n",
        "  useEffect(() => {   # Note that this useEffect is never called anywhere. But will execute once anyway.\n",
        "    console.log('call useEffect');\n",
        "  });\n",
        "  console.log('render component');\n",
        "\n",
        "  return (\n",
        "    <Fragment>\n",
        "      <h1>{value}</h1>\n",
        "      <button className='btn' onClick={()=> setValue(value+1)}>Increament</button>\n",
        "    </Fragment>\n",
        "  )\n",
        "};"
      ],
      "execution_count": 1,
      "outputs": [
        {
          "output_type": "display_data",
          "data": {
            "image/png": "[encoded data removed]",
            "text/plain": [
              "<PIL.Image.Image image mode=RGB size=192x334 at 0x7F64E32CFB10>"
            ]
          },
          "metadata": {}
        }
      ]
    },
    {
      "cell_type": "markdown",
      "metadata": {
        "id": "_yLzBxNlbfDJ"
      },
      "source": [
        "### Not inside a conditional\n",
        "\n",
        "The hook cannot reside within a conditional. What should we do if we want to update the value of the the document title upon certain condition? \n",
        "\n",
        "See below. The logic of the wrong snippet is: \n",
        "- if the value is greater than 5, only then call useEffect. (outside the `Hook`)\n",
        "\n",
        "The solution to this probelm is:\n",
        "- `useEffect` is called every time. But the update will be executed when the condition is met (inside the `Hook`)"
      ]
    },
    {
      "cell_type": "code",
      "metadata": {
        "id": "akp5EsRcbnTQ"
      },
      "source": [
        "# Wrong conditioning\n",
        "\n",
        "if (value > 5) {    \n",
        "  useEffect(() => {  # useEffect is inside 'if'.\n",
        "    console.log('call useEffect');\n",
        "      document.title = `New Messages(${value})`;\n",
        "    }\n",
        "  });\n",
        "  console.log('render component');"
      ],
      "execution_count": null,
      "outputs": []
    },
    {
      "cell_type": "code",
      "metadata": {
        "id": "PuklOarRbfbc"
      },
      "source": [
        "# Correect conditioning\n",
        "  useEffect(() => {\n",
        "    console.log('call useEffect');\n",
        "    if (value > 5) {\n",
        "      document.title = `New Messages(${value})`;\n",
        "    }\n",
        "  });\n",
        "  console.log('render component');"
      ],
      "execution_count": null,
      "outputs": []
    },
    {
      "cell_type": "markdown",
      "metadata": {
        "id": "UHlvwpGgcs90"
      },
      "source": [
        "### Dependency List (the second parameter)\n",
        "    useEffect(()=> {\n",
        "\n",
        "    }, [dependency list]);\n",
        "\n",
        "- `}, []);` empty dependency list\n",
        "  - Makes the `useEffect` run only once.\n",
        "- `}, [dependency list]);` list with data\n",
        "  - "
      ]
    },
    {
      "cell_type": "code",
      "metadata": {
        "id": "ooLcKmnEdsc_"
      },
      "source": [
        "  useEffect(() => {\n",
        "    console.log('call useEffect');\n",
        "    if (value > 5) {\n",
        "      document.title = `New Messages(${value})`;\n",
        "    }\n",
        "  }, [value]);"
      ],
      "execution_count": null,
      "outputs": []
    },
    {
      "cell_type": "markdown",
      "metadata": {
        "id": "_JjGC_dJBGcz"
      },
      "source": [
        "## 2 - cleanup function\n",
        "\n",
        "The useEffect hook is built in a way that if we return a function within the method, this function will execute when the component gets disassociated. This is very useful because we can use it to remove unnecessary behavior or prevent memory leaking issues ([Martín Mato](https://dev.to/otamnitram/react-useeffect-cleanup-how-and-when-to-use-it-2hbm)). "
      ]
    },
    {
      "cell_type": "code",
      "metadata": {
        "id": "U0y38MOas-Sz"
      },
      "source": [
        "# basic syntax\n",
        "\n",
        "useEffect(() => {\n",
        "    API.subscribe()\n",
        "    return function cleanup() {\n",
        "        API.unsubscribe()\n",
        "    }\n",
        "})"
      ],
      "execution_count": null,
      "outputs": []
    },
    {
      "cell_type": "markdown",
      "metadata": {
        "id": "y7CjpJ-RjnEb"
      },
      "source": [
        "### resize window"
      ]
    },
    {
      "cell_type": "code",
      "metadata": {
        "id": "Pe1evGVdR0FM"
      },
      "source": [
        "const UseEffectCleanup = () => {\n",
        "  const [width, setWidth] = useState(window.innerWidth);\n",
        "  const [height, setHeight] = useState(window.innerHeight);\n",
        "  console.log(width);\n",
        "  console.log(height);\n",
        "\n",
        "  const checkWidth = () => {\n",
        "    setWidth(window.innerWidth);\n",
        "  }\n",
        "\n",
        "  const checkHeight = () => {\n",
        "    setHeight(window.innerHeight);\n",
        "  }\n",
        "\n",
        "  useEffect(() => { # event 'resize' will listen to changing window size.\n",
        "                   # every time window is resized, \n",
        "                   # we call this callback funciton checkWidth, \n",
        "                   # which in turn triggers re-render.\n",
        "    window.addEventListener('resize', checkWidth); \n",
        "    window.addEventListener('resize', checkHeight);\n",
        "  })\n",
        "\n",
        "  return (\n",
        "    <Fragment>\n",
        "      <h1>Window</h1>\n",
        "      <h3>{width } * {height}</h3>\n",
        "    </Fragment>\n",
        "  );\n",
        "};"
      ],
      "execution_count": null,
      "outputs": []
    },
    {
      "cell_type": "markdown",
      "metadata": {
        "id": "gzr-PyIglJcB"
      },
      "source": [
        "### cleanup! \n"
      ]
    },
    {
      "cell_type": "code",
      "metadata": {
        "id": "r3HIbxp6lLhm"
      },
      "source": [
        "#   useEffect(() => {\n",
        "    console.log('resize')\n",
        "    window.addEventListener('resize', checkWidth);       # subscribe\n",
        "    window.addEventListener('resize', checkHeight);      # subscribe\n",
        "    return ()=> {\n",
        "      console.log('cleanup');\n",
        "      window.removeEventListener('resize', checkWidth);  # unsubscribe\n",
        "    }\n",
        "  });"
      ],
      "execution_count": null,
      "outputs": []
    },
    {
      "cell_type": "markdown",
      "metadata": {
        "id": "cQmKKEozBDqj"
      },
      "source": [
        "## 3 - Fetch data\n",
        "`useEffect` cannot return `promise`. Therefore, it cannot use `async` function. \n",
        "\n",
        "- Wrong syntax  \n",
        "\n",
        "    `useEffect(async () => {`\n",
        "\n",
        "- Correct approach - use async either:\n",
        "  - inside the `useEffect` or\n",
        "  - outside the `useEffect`"
      ]
    },
    {
      "cell_type": "code",
      "metadata": {
        "id": "_bK2otvqBKA2"
      },
      "source": [
        "  const getUsers = async() => {\n",
        "    const response = await fetch(url);\n",
        "    const users = await response.json();\n",
        "    setUsers(users);\n",
        "  };\n",
        "\n",
        "  useEffect(() => {\n",
        "    getUsers();\n",
        "  }, []);       # make sure to pass in the dependency list. Otherwise you'll dance in infinity with a crash cocktail."
      ],
      "execution_count": null,
      "outputs": []
    },
    {
      "cell_type": "markdown",
      "metadata": {
        "id": "lPAS1OG-aJKp"
      },
      "source": [
        "## Tap title\n",
        "`document.title = random text for title`"
      ]
    }
  ]
}