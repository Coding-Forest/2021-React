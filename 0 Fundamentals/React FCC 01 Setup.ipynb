{
  "nbformat": 4,
  "nbformat_minor": 0,
  "metadata": {
    "colab": {
      "name": "React FCC 01 Setup.ipynb",
      "provenance": [],
      "collapsed_sections": []
    },
    "kernelspec": {
      "name": "python3",
      "display_name": "Python 3"
    },
    "language_info": {
      "name": "python"
    }
  },
  "cells": [
    {
      "cell_type": "markdown",
      "metadata": {
        "id": "3rqsGAHiVx-n"
      },
      "source": [
        "# React\n",
        "A web dev framework developed in 2011 by Facebook\n",
        "- Angular, Vue, Svelte\n",
        "- Components = user interfaces\n",
        "- Root component, component tree\n",
        "- Independence\n",
        "- Reusability\n",
        "- Speed \n",
        "\n",
        "\n",
        "**References**  \n",
        "- freeCodeCamp.org (2020) Full React Course 2020 - Learn Fundamentals, Hooks, Context API, React https://www.youtube.com/watch?v=4UZrsTqkcW4&ab_channel=freeCodeCamp.org\n",
        "- Create React App \n",
        "  https://github.com/FACEBOOK/CREATE-REACT-APP"
      ]
    },
    {
      "cell_type": "markdown",
      "metadata": {
        "id": "epqaOJq0g3fn"
      },
      "source": [
        "## Setup"
      ]
    },
    {
      "cell_type": "markdown",
      "metadata": {
        "id": "4Z5Km-m2cbx6"
      },
      "source": [
        "### 1) App structure\n",
        "\n",
        "📂React-App-in-production  \n",
        "├── 📂build   ㅤ(contains static assets)  \n",
        "│ㅤㅤ├── 📂static   \n",
        "│ㅤㅤ│ㅤㅤ├── 📂css  \n",
        "│ㅤㅤ│ㅤㅤ├── 📂js   \n",
        "│ㅤㅤ│ㅤㅤ└── 📂media    \n",
        "│ㅤㅤ├── 📃 all assets necessary        \n",
        "│ㅤㅤ├── 📃 to deploy your app...  \n",
        "│ㅤㅤ└── ...  \n",
        "├── 📂node_modules  \n",
        "├── 📂public  \n",
        "├── 📂src  \n",
        "├── 📃 .gitignore (controls which files to ignore)  \n",
        "├── 📃 package-lock.json   \n",
        "└── 📃 package.json  "
      ]
    },
    {
      "cell_type": "markdown",
      "metadata": {
        "id": "dQ75PsyDhEiC"
      },
      "source": [
        "### 2) Commands\n",
        "- `pwd`\n",
        "- `ls`\n",
        "- `mkdir`\n",
        "- `cd`\n",
        "- `cd..` navigate to parents / one level up \n",
        "- `clear` clear console"
      ]
    },
    {
      "cell_type": "markdown",
      "metadata": {
        "id": "lfkvv4lIhXrd"
      },
      "source": [
        "### 3) `npm` basics\n",
        "- `npm init`: creates `package.json` (manifest file), list dependencies\n",
        "- `npm install <package name> --save` install package locally (default) and add to `package.json`.\n",
        "- `sudo npm install <package name> -g` install package globally (access from anywhere).\n",
        "- `npm install <package name> --save-dev` use it only in development."
      ]
    },
    {
      "cell_type": "code",
      "metadata": {
        "id": "F6jlLWCQi9XB"
      },
      "source": [
        "npm init"
      ],
      "execution_count": null,
      "outputs": []
    },
    {
      "cell_type": "code",
      "metadata": {
        "id": "obiovgs_i3jj"
      },
      "source": [
        "This utility will walk you through creating a package.json file.\n",
        "It only covers the most common items, and tries to guess sensible defaults.\n",
        "\n",
        "See `npm help init` for definitive documentation on these fields\n",
        "and exactly what they do.\n",
        "\n",
        "Use `npm install <pkg>` afterwards to install a package and\n",
        "save it as a dependency in the package.json file.\n",
        "\n",
        "Press ^C at any time to quit.\n",
        "package name: (build-api-nod-koa)"
      ],
      "execution_count": null,
      "outputs": []
    },
    {
      "cell_type": "code",
      "metadata": {
        "id": "rilBhIPujMNG"
      },
      "source": [
        "package name: (build-api-nod-koa) app # enter package name\n",
        "version: (1.0.0)\n",
        "git repository:\n",
        "license: (ISC)\n",
        "About to write to C:\\Users\\user\\package.json:\n",
        "\n",
        "{\n",
        "  \"name\": \"demo-app\",\n",
        "  \"version\": \"1.0.0\",\n",
        "  \"description\": \"\\\"learning kk\\\"\",\n",
        "  \"main\": \"\\\"node index.js\\\"\",\n",
        "  \"scripts\": {\n",
        "    \"test\": \"\\\"la la la\\\"\"\n",
        "  },\n",
        "  \"keywords\": [\n",
        "    \"0123\"\n",
        "  ],\n",
        "  \"author\": \"\\\"Coding Forest\\\"\",\n",
        "  \"license\": \"ISC\",\n",
        "  \"repository\": {\n",
        "    \"type\": \"git\",\n",
        "    \"url\": \" \"\n",
        "  }\n",
        "}\n",
        "\n",
        "Is this OK? (yes) yes"
      ],
      "execution_count": null,
      "outputs": []
    },
    {
      "cell_type": "markdown",
      "metadata": {
        "id": "LrMbpnMmkVkF"
      },
      "source": [
        "#### 3-1. `npm init`\n",
        "`package.json` for \"demo-app\" has been created. "
      ]
    },
    {
      "cell_type": "code",
      "metadata": {
        "id": "0YfbEskhkcQ6"
      },
      "source": [
        "{\n",
        "  \"name\": \"demo-app\",\n",
        "  \"version\": \"1.0.0\",\n",
        "  \"description\": \"\",\n",
        "  \"main\": \"index.js\",\n",
        "  \"scripts\": {\n",
        "    \"test\": \"echo \\\"Error: no test specified\\\" && exit 1\"\n",
        "  },\n",
        "  \"author\": \"\",\n",
        "  \"license\": \"ISC\"\n",
        "}"
      ],
      "execution_count": null,
      "outputs": []
    },
    {
      "cell_type": "markdown",
      "metadata": {
        "id": "zsgtRqBql_tj"
      },
      "source": [
        "#### 3-2. `npm install <package name> --save`\n",
        "📂React-App-in-production  \n",
        "├── 📂node_modules  \n",
        "└── 📃 package.jsonㅤ**(created)** "
      ]
    },
    {
      "cell_type": "code",
      "metadata": {
        "id": "aluprS3YmE60"
      },
      "source": [
        "npm install bootstrap\n",
        "\n",
        "-------------------------\n",
        "\n",
        "added 2 packages, and audited 3 packages in 11s\n",
        "\n",
        "2 packages are looking for funding\n",
        "  run `npm fund` for details\n",
        "\n",
        "found 0 vulnerabilities"
      ],
      "execution_count": null,
      "outputs": []
    },
    {
      "cell_type": "markdown",
      "metadata": {
        "id": "mAEQA7FLmt-M"
      },
      "source": [
        "#### 3-2-1 Directory structure\n",
        "\n",
        "📂React-App-in-production  \n",
        "├── 📂node_modules   \n",
        "│ㅤㅤ├── 📂 bootstrapㅤ**(created)**  \n",
        "│ㅤㅤ│ㅤㅤ├── 📂dist  \n",
        "│ㅤㅤ│ㅤㅤ├── 📂js   \n",
        "│ㅤㅤ│ㅤㅤ└── 📂scss    \n",
        "│ㅤㅤ└── 📃 ...     \n",
        "├── 📃 package-lock.json   \n",
        "└── 📃 package.json  "
      ]
    },
    {
      "cell_type": "markdown",
      "metadata": {
        "id": "VdT5a3xsg8er"
      },
      "source": [
        "### 4) `package.json`"
      ]
    },
    {
      "cell_type": "code",
      "metadata": {
        "id": "NWAzNeDjvjgb"
      },
      "source": [
        "# react-demo > package.json\n",
        "  \"scripts\": {\n",
        "    \"start\": \"react-scripts start\",  # starts a dev server\n",
        "    \"build\": \"react-scripts build\",  # starts a production server\n",
        "    \"test\": \"react-scripts test\",\n",
        "    \"eject\": \"react-scripts eject\"\n",
        "  },"
      ],
      "execution_count": null,
      "outputs": []
    },
    {
      "cell_type": "markdown",
      "metadata": {
        "id": "FZoqcZuJwbL9"
      },
      "source": [
        "### 5) `index.js`"
      ]
    },
    {
      "cell_type": "code",
      "metadata": {
        "id": "j97QQReewktJ"
      },
      "source": [
        "# react-demo > index.js\n",
        "ReactDOM.render(\n",
        "  <React.StrictMode>\n",
        "    <App />\n",
        "  </React.StrictMode>,\n",
        "  document.getElementById('root') # this is the line where our app lives. \n",
        ");"
      ],
      "execution_count": null,
      "outputs": []
    },
    {
      "cell_type": "markdown",
      "metadata": {
        "id": "YyU33D3Ow2TZ"
      },
      "source": [
        "### 6) `.gitignore`\n",
        "specifies which files will be ignored by our source control."
      ]
    },
    {
      "cell_type": "code",
      "metadata": {
        "id": "SnLgTleJxJp4"
      },
      "source": [
        "# dependencies\n",
        "/node_modules   \n",
        "/.pnp\n",
        ".pnp.js\n",
        "\n",
        "# testing\n",
        "/coverage\n",
        "\n",
        "# production\n",
        "/build      \n",
        "\n",
        "# misc\n",
        ".DS_Store\n",
        ".env.local\n",
        ".env.development.local\n",
        ".env.test.local\n",
        ".env.production.local\n",
        "\n",
        "npm-debug.log*\n",
        "yarn-debug.log*\n",
        "yarn-error.log*"
      ],
      "execution_count": null,
      "outputs": []
    },
    {
      "cell_type": "markdown",
      "metadata": {
        "id": "F0eJNyYdgD8J"
      },
      "source": [
        "### Version check\n",
        "Open your command prompt: \n",
        "  - `--version`\n",
        "  - ㅤㅤ`v16.13.0`"
      ]
    }
  ]
}