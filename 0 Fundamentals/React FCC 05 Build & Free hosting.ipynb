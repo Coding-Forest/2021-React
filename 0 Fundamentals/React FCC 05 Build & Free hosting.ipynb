{
  "nbformat": 4,
  "nbformat_minor": 0,
  "metadata": {
    "colab": {
      "name": "React FCC 05 Build & Free hosting.ipynb",
      "provenance": [],
      "collapsed_sections": []
    },
    "kernelspec": {
      "name": "python3",
      "display_name": "Python 3"
    },
    "language_info": {
      "name": "python"
    }
  },
  "cells": [
    {
      "cell_type": "markdown",
      "metadata": {
        "id": "3rqsGAHiVx-n"
      },
      "source": [
        "# React FFC 05 `build` and Free Hosting\n",
        "\n",
        "In software development, a build is the process of converting source code files into standalone software artifact(s) that can be run on a computer, or the result of doing so ([Wikipedia](https://en.wikipedia.org/wiki/Software_build)).\n",
        "\n",
        "**References**  \n",
        "- freeCodeCamp.org (2020) Full React Course 2020 - Learn Fundamentals, Hooks, Context API, React https://www.youtube.com/watch?v=4UZrsTqkcW4&ab_channel=freeCodeCamp.org\n",
        "- Tutorial by Mr. John Smilga"
      ]
    },
    {
      "cell_type": "markdown",
      "metadata": {
        "id": "tSBCdUsSlR8W"
      },
      "source": [
        "## Free hosting\n",
        "at https://www.netlify.com/\n",
        "\n",
        "<br>\n",
        "\n",
        "Deploy on the internet so the world can see your work!  \n",
        "1) `npm run build`  \n",
        "2) Then drop the `build` folder on Netlify.  \n",
        "3) Done!"
      ]
    },
    {
      "cell_type": "code",
      "metadata": {
        "id": "Pe1evGVdR0FM"
      },
      "source": [
        ">> npm run build\n",
        "\n",
        "-----------------------------------------------------------------\n",
        "\n",
        "> react-demo@0.1.0 build\n",
        "> react-scripts build\n",
        "\n",
        "Creating an optimized production build...\n",
        "Compiled with warnings.\n",
        "\n",
        "src\\index.js\n",
        "  Line 10:19:  Unexpected empty object pattern  no-empty-pattern\n",
        "\n",
        "Search for the keywords to learn more about each warning.\n",
        "To ignore, add // eslint-disable-next-line to the line before.\n",
        "\n",
        "File sizes after gzip:\n",
        "\n",
        "  41.54 KB  build\\static\\js\\2.e6e7753b.chunk.js\n",
        "  1.74 KB   build\\static\\js\\main.d9592ce3.chunk.js\n",
        "  775 B     build\\static\\js\\runtime-main.cb7c118c.js\n",
        "  433 B     build\\static\\css\\main.a8fcffc2.chunk.css\n",
        "\n",
        "The project was built assuming it is hosted at /.\n",
        "You can control this with the homepage field in your package.json.\n",
        "\n",
        "The build folder is ready to be deployed.\n",
        "You may serve it with a static server:\n",
        "\n",
        "  npm install -g serve\n",
        "  serve -s build\n",
        "\n",
        "Find out more about deployment here:\n",
        "\n",
        "  https://cra.link/deployment"
      ],
      "execution_count": null,
      "outputs": []
    }
  ]
}