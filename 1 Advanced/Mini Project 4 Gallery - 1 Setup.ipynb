{
  "nbformat": 4,
  "nbformat_minor": 0,
  "metadata": {
    "colab": {
      "name": "Gallery in React, Firebase - 1 Setup.ipynb",
      "provenance": [],
      "collapsed_sections": []
    },
    "kernelspec": {
      "display_name": "Python 3",
      "name": "python3"
    },
    "language_info": {
      "name": "python"
    }
  },
  "cells": [
    {
      "cell_type": "markdown",
      "metadata": {
        "id": "3rqsGAHiVx-n"
      },
      "source": [
        "# Gallery web app in `ReactJS` & `Firebase`\n",
        "\n",
        "**References**  \n",
        "- Traversy Media, Net Ninja (2020) Build a Photo Gallery With React & Firebase https://www.youtube.com/watch?v=vUe91uOx7R0\n",
        "- Source Code by Net Ninja from https://github.com/iamshaunjp/firegram/tree/starter-files"
      ]
    },
    {
      "cell_type": "markdown",
      "metadata": {
        "id": "46x7fu2Xw23A"
      },
      "source": [
        "## Firebase setup"
      ]
    },
    {
      "cell_type": "markdown",
      "metadata": {
        "id": "JQsliqROVou8"
      },
      "source": [
        "### 1 Create back-end on `Firebase`\n",
        "1. Create a web app on [firebase.google.com](https://firebase.google.com/). "
      ]
    },
    {
      "cell_type": "markdown",
      "metadata": {
        "id": "t4ZmoswwVioL"
      },
      "source": [
        "### 2 Import `config.js` in `React App`\n",
        "\n",
        "2. Create a folder (`firebase`) in `src` folder, then the conifg file (`config.js`) in it as indicated below. In `config.js`, paste the following snippet from the newly created `firebase project` in your `firebase` account.\n",
        "\n",
        "📂 `my-project`  \n",
        "├── 📂node_modules    \n",
        "├── 📂public   \n",
        "├── 📂src   \n",
        "│ㅤㅤ├── 📂**`firebase`**     \n",
        "│ㅤㅤ│ㅤㅤ└── 📃**`config.js`**     \n",
        "├── 📃package-lock.json  \n",
        "├── 📃package.json      \n",
        "└── 📃README.md    "
      ]
    },
    {
      "cell_type": "code",
      "metadata": {
        "id": "E1bcgtpjTSV6"
      },
      "source": [
        "// Import the functions you need from the SDKs you need\n",
        "import { initializeApp } from \"my-project/app\";\n",
        "// TODO: Add SDKs for Firebase products that you want to use\n",
        "// https://firebase.google.com/docs/web/setup#available-libraries\n",
        "\n",
        "// Your web app's Firebase configuration\n",
        "const firebaseConfig = {\n",
        "  apiKey: \"\",\n",
        "  authDomain: \"\",\n",
        "  projectId: \"my-project\",\n",
        "  storageBucket: \"my-project-3ra21.appspot.com\",\n",
        "  messagingSenderId: \"random nuber\",\n",
        "  appId: \"1:random number:web:random string\"\n",
        "};\n",
        "\n",
        "// Initialize Firebase\n",
        "const app = initializeApp(firebaseConfig);"
      ],
      "execution_count": null,
      "outputs": []
    },
    {
      "cell_type": "markdown",
      "metadata": {
        "id": "L0omALloV2Y9"
      },
      "source": [
        "### 3 Install `firebase` in `React App`"
      ]
    },
    {
      "cell_type": "code",
      "metadata": {
        "id": "WMb7G6ivWBaw"
      },
      "source": [
        "npm install firebase"
      ],
      "execution_count": null,
      "outputs": []
    },
    {
      "cell_type": "markdown",
      "metadata": {
        "id": "DzRp7IEwVbPT"
      },
      "source": [
        "### 4 Import `firebase` and dependencies into `React App`"
      ]
    },
    {
      "cell_type": "code",
      "metadata": {
        "id": "skbGM5X9VzYo"
      },
      "source": [
        "# import * as firebase from 'firebase/app';\n",
        "import { initializeApp } from \"firebase/app\";\n",
        "import 'firebase/storage';      # for static assets like images\n",
        "import 'firebase/firesotre';\n",
        "\n",
        "# Initialize Firebase \n",
        "const app = initializeApp(firebaseConfig);  # this like connects the React app with the firebase back-end.\n",
        "const firestore = getFirestore(app);        # initialising 2 service components\n",
        "const storage = getStorage(app);\n",
        "\n",
        "export {firestore, storage};                # Make the services available to other documents within React App."
      ],
      "execution_count": null,
      "outputs": []
    },
    {
      "cell_type": "markdown",
      "metadata": {
        "id": "3moaxymjX8fX"
      },
      "source": [
        "### 5 Initialise `firestore` and `storage` on `Firebase` back-end \n",
        "\n",
        "- select db zone\n",
        "- select production mode / `test mode`\n",
        "    - `test mode` is easier. "
      ]
    },
    {
      "cell_type": "markdown",
      "metadata": {
        "id": "_OoLVeLWZasc"
      },
      "source": [
        "### 6 Start a storage service.\n",
        "- click start\n",
        "- and create an empty storage. \n",
        "- click on the `rule` tap.\n",
        "- edit the rule as below snippet."
      ]
    },
    {
      "cell_type": "code",
      "metadata": {
        "id": "pf_yrihZYhN-"
      },
      "source": [
        "rules_version = '2';\n",
        "service firebase.storage {\n",
        "  match /b/{bucket}/o {\n",
        "    match /{allPaths=**} {\n",
        "      allow read, write; ##: if request.auth != null;\n",
        "    }\n",
        "  }\n",
        "}   # then click publish"
      ],
      "execution_count": null,
      "outputs": []
    }
  ]
}